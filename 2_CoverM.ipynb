{
 "cells": [
  {
   "cell_type": "markdown",
   "metadata": {},
   "source": [
    "# Genome recruitment using coverM"
   ]
  },
  {
   "cell_type": "markdown",
   "metadata": {},
   "source": [
    "We are now ready to start the recruitment. "
   ]
  },
  {
   "cell_type": "markdown",
   "metadata": {},
   "source": [
    "Reminder, the metagenomes are located in the folder:"
   ]
  },
  {
   "cell_type": "markdown",
   "metadata": {},
   "source": [
    "\n",
    "```\n",
    "/mnt/storage/data/metagenomes/subsampled_metagenomes\n",
    "```\n",
    "\n"
   ]
  },
  {
   "cell_type": "markdown",
   "metadata": {},
   "source": [
    "and the genomes in: \n"
   ]
  },
  {
   "cell_type": "markdown",
   "metadata": {},
   "source": [
    "```\n",
    "/mnt/storage/data/ag-910/\n",
    "```"
   ]
  },
  {
   "cell_type": "markdown",
   "metadata": {},
   "source": [
    "Make sure that you are inside the folder you cloned (day2_recruitment) in your userlab folder. If not, go there."
   ]
  },
  {
   "cell_type": "markdown",
   "metadata": {},
   "source": [
    "Make a new folder inside day2_recruitment to export the coverM results\n",
    "```\n",
    "mkdir coverM_results"
   ]
  },
  {
   "cell_type": "markdown",
   "metadata": {},
   "source": [
    "Check the coverm help pages https://wwood.github.io/CoverM/coverm-genome.html . And then, run coverm using minimum percent identity 95% and minimum read aligned 50%. Restrict the use of cores to 2. Store the output file in coverM_results you just made. The example for me would be: "
   ]
  },
  {
   "cell_type": "markdown",
   "metadata": {},
   "source": [
    "```\n",
    "$ coverm genome -c /mnt/storage/data/metagenomes/subsampled_metagenomes/SRR* -f /mnt/storage/data/ag-910/*/final_contigs*.fasta -x fasta --min-read-percent-identity 95 --min-read-aligned-percent 50 -t 2 --output-file /mnt/storage/userlab/mpachiadaki/day2_recruitment/coverM_results/AG_910_BATS_coverm_relabundance\n",
    "```"
   ]
  },
  {
   "cell_type": "markdown",
   "metadata": {},
   "source": [
    "While CoverM is running let's explore the various [Calculation methods](https://github.com/wwood/CoverM#calculation-methods) "
   ]
  },
  {
   "cell_type": "code",
   "execution_count": null,
   "metadata": {},
   "outputs": [],
   "source": []
  }
 ],
 "metadata": {
  "kernelspec": {
   "display_name": "Python 3 (ipykernel)",
   "language": "python",
   "name": "python3"
  },
  "language_info": {
   "codemirror_mode": {
    "name": "ipython",
    "version": 3
   },
   "file_extension": ".py",
   "mimetype": "text/x-python",
   "name": "python",
   "nbconvert_exporter": "python",
   "pygments_lexer": "ipython3",
   "version": "3.10.10"
  }
 },
 "nbformat": 4,
 "nbformat_minor": 4
}
